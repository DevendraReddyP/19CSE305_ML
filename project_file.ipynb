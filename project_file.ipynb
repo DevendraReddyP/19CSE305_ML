{
 "cells": [
  {
   "cell_type": "markdown",
   "id": "11570745",
   "metadata": {},
   "source": [
    "## FINAL MACHINING PROJECT"
   ]
  },
  {
   "cell_type": "code",
   "execution_count": 3,
   "id": "c063c6e9",
   "metadata": {},
   "outputs": [],
   "source": [
    "import pandas as pd\n",
    "import numpy as np\n",
    "import warnings\n",
    "\n",
    "warnings.filterwarnings(\"ignore\")\n",
    "warnings.filterwarnings(\"ignore\", category=DeprecationWarning)"
   ]
  },
  {
   "cell_type": "code",
   "execution_count": 4,
   "id": "d88cfff7",
   "metadata": {},
   "outputs": [
    {
     "data": {
      "text/html": [
       "<div>\n",
       "<style scoped>\n",
       "    .dataframe tbody tr th:only-of-type {\n",
       "        vertical-align: middle;\n",
       "    }\n",
       "\n",
       "    .dataframe tbody tr th {\n",
       "        vertical-align: top;\n",
       "    }\n",
       "\n",
       "    .dataframe thead th {\n",
       "        text-align: right;\n",
       "    }\n",
       "</style>\n",
       "<table border=\"1\" class=\"dataframe\">\n",
       "  <thead>\n",
       "    <tr style=\"text-align: right;\">\n",
       "      <th></th>\n",
       "      <th>dissimilarity_0</th>\n",
       "      <th>dissimilarity_45</th>\n",
       "      <th>dissimilarity_90</th>\n",
       "      <th>dissimilarity_135</th>\n",
       "      <th>correlation_0</th>\n",
       "      <th>correlation_45</th>\n",
       "      <th>correlation_90</th>\n",
       "      <th>correlation_135</th>\n",
       "      <th>homogeneity_0</th>\n",
       "      <th>homogeneity_45</th>\n",
       "      <th>...</th>\n",
       "      <th>contrast_135</th>\n",
       "      <th>ASM_0</th>\n",
       "      <th>ASM_45</th>\n",
       "      <th>ASM_90</th>\n",
       "      <th>ASM_135</th>\n",
       "      <th>energy_0</th>\n",
       "      <th>energy_45</th>\n",
       "      <th>energy_90</th>\n",
       "      <th>energy_135</th>\n",
       "      <th>label</th>\n",
       "    </tr>\n",
       "  </thead>\n",
       "  <tbody>\n",
       "    <tr>\n",
       "      <th>0</th>\n",
       "      <td>17.216435</td>\n",
       "      <td>21.119725</td>\n",
       "      <td>20.889887</td>\n",
       "      <td>21.543330</td>\n",
       "      <td>0.491436</td>\n",
       "      <td>0.390284</td>\n",
       "      <td>0.389736</td>\n",
       "      <td>0.378055</td>\n",
       "      <td>0.932486</td>\n",
       "      <td>0.917179</td>\n",
       "      <td>...</td>\n",
       "      <td>5493.549025</td>\n",
       "      <td>0.804286</td>\n",
       "      <td>0.788199</td>\n",
       "      <td>0.790551</td>\n",
       "      <td>0.786816</td>\n",
       "      <td>0.896820</td>\n",
       "      <td>0.887806</td>\n",
       "      <td>0.889129</td>\n",
       "      <td>0.887027</td>\n",
       "      <td>3333</td>\n",
       "    </tr>\n",
       "    <tr>\n",
       "      <th>1</th>\n",
       "      <td>12.143708</td>\n",
       "      <td>15.748918</td>\n",
       "      <td>14.495192</td>\n",
       "      <td>15.859307</td>\n",
       "      <td>0.504656</td>\n",
       "      <td>0.375442</td>\n",
       "      <td>0.414030</td>\n",
       "      <td>0.371065</td>\n",
       "      <td>0.952378</td>\n",
       "      <td>0.938240</td>\n",
       "      <td>...</td>\n",
       "      <td>4044.123377</td>\n",
       "      <td>0.858505</td>\n",
       "      <td>0.843167</td>\n",
       "      <td>0.849379</td>\n",
       "      <td>0.842788</td>\n",
       "      <td>0.926556</td>\n",
       "      <td>0.918241</td>\n",
       "      <td>0.921618</td>\n",
       "      <td>0.918035</td>\n",
       "      <td>3333</td>\n",
       "    </tr>\n",
       "    <tr>\n",
       "      <th>2</th>\n",
       "      <td>17.216435</td>\n",
       "      <td>21.119725</td>\n",
       "      <td>20.889887</td>\n",
       "      <td>21.543330</td>\n",
       "      <td>0.491436</td>\n",
       "      <td>0.390284</td>\n",
       "      <td>0.389736</td>\n",
       "      <td>0.378055</td>\n",
       "      <td>0.932486</td>\n",
       "      <td>0.917179</td>\n",
       "      <td>...</td>\n",
       "      <td>5493.549025</td>\n",
       "      <td>0.804286</td>\n",
       "      <td>0.788199</td>\n",
       "      <td>0.790551</td>\n",
       "      <td>0.786816</td>\n",
       "      <td>0.896820</td>\n",
       "      <td>0.887806</td>\n",
       "      <td>0.889129</td>\n",
       "      <td>0.887027</td>\n",
       "      <td>3333</td>\n",
       "    </tr>\n",
       "  </tbody>\n",
       "</table>\n",
       "<p>3 rows × 25 columns</p>\n",
       "</div>"
      ],
      "text/plain": [
       "   dissimilarity_0  dissimilarity_45  dissimilarity_90  dissimilarity_135  \\\n",
       "0        17.216435         21.119725         20.889887          21.543330   \n",
       "1        12.143708         15.748918         14.495192          15.859307   \n",
       "2        17.216435         21.119725         20.889887          21.543330   \n",
       "\n",
       "   correlation_0  correlation_45  correlation_90  correlation_135  \\\n",
       "0       0.491436        0.390284        0.389736         0.378055   \n",
       "1       0.504656        0.375442        0.414030         0.371065   \n",
       "2       0.491436        0.390284        0.389736         0.378055   \n",
       "\n",
       "   homogeneity_0  homogeneity_45  ...  contrast_135     ASM_0    ASM_45  \\\n",
       "0       0.932486        0.917179  ...   5493.549025  0.804286  0.788199   \n",
       "1       0.952378        0.938240  ...   4044.123377  0.858505  0.843167   \n",
       "2       0.932486        0.917179  ...   5493.549025  0.804286  0.788199   \n",
       "\n",
       "     ASM_90   ASM_135  energy_0  energy_45  energy_90  energy_135  label  \n",
       "0  0.790551  0.786816  0.896820   0.887806   0.889129    0.887027   3333  \n",
       "1  0.849379  0.842788  0.926556   0.918241   0.921618    0.918035   3333  \n",
       "2  0.790551  0.786816  0.896820   0.887806   0.889129    0.887027   3333  \n",
       "\n",
       "[3 rows x 25 columns]"
      ]
     },
     "execution_count": 4,
     "metadata": {},
     "output_type": "execute_result"
    }
   ],
   "source": [
    "df=pd.read_csv(\"MAlayalam_char_glcm_features.csv\")\n",
    "df.drop(\"fname\",axis=1,inplace=True)\n",
    "df.head(3)"
   ]
  },
  {
   "cell_type": "markdown",
   "id": "c0403010",
   "metadata": {},
   "source": [
    "### Understanding about the dataframe"
   ]
  },
  {
   "cell_type": "code",
   "execution_count": 5,
   "id": "17d8fe92",
   "metadata": {},
   "outputs": [
    {
     "name": "stdout",
     "output_type": "stream",
     "text": [
      "Number of columns: 25\n",
      "The shape of the data frame is : (3287, 25)\n",
      "Unique value counts in 'Label' :  48\n"
     ]
    }
   ],
   "source": [
    "def information(df):\n",
    "    # Finding the numbers of columns\n",
    "\n",
    "    num_columns = len(df.columns)\n",
    "    print(\"Number of columns:\", num_columns)\n",
    "\n",
    "    # Shape of data frame\n",
    "    print(f\"The shape of the data frame is : {df.shape}\")\n",
    "\n",
    "    # The number of Unique values in label\n",
    "    unique_counts = df[\"label\"].value_counts()\n",
    "    print(f\"Unique value counts in 'Label' :  {len(unique_counts)}\")\n",
    "    \n",
    "\n",
    "information(df)\n"
   ]
  },
  {
   "cell_type": "code",
   "execution_count": 6,
   "id": "2ca9181c",
   "metadata": {},
   "outputs": [],
   "source": [
    "# import all the modules\n",
    "from sklearn.model_selection import train_test_split\n",
    "from sklearn.neighbors import KNeighborsClassifier\n",
    "from sklearn.ensemble import RandomForestClassifier\n",
    "from sklearn.tree import DecisionTreeClassifier\n",
    "from sklearn.neural_network import MLPClassifier\n",
    "from sklearn.svm import SVC\n",
    "from sklearn.naive_bayes import MultinomialNB\n",
    "\n",
    "from sklearn.metrics import accuracy_score,precision_score,recall_score,f1_score\n",
    "from sklearn.model_selection import cross_val_score\n"
   ]
  },
  {
   "cell_type": "markdown",
   "id": "fd934673",
   "metadata": {},
   "source": [
    "### Preparing the data"
   ]
  },
  {
   "cell_type": "code",
   "execution_count": 7,
   "id": "46b83f9e",
   "metadata": {},
   "outputs": [],
   "source": [
    "x = df.drop('label', axis=1)# Features\n",
    "y = df['label']  # Target  \n",
    "\n",
    "# Splitting the data into train and test sets\n",
    "x_train, x_test, y_train, y_test = train_test_split(x, y, test_size=0.2, random_state=42)"
   ]
  },
  {
   "cell_type": "markdown",
   "id": "badb25f9",
   "metadata": {},
   "source": [
    "### Evaluation metrics for checking the accuracy"
   ]
  },
  {
   "cell_type": "code",
   "execution_count": 8,
   "id": "b629896b",
   "metadata": {},
   "outputs": [],
   "source": [
    "def evaluate_preds(y_true,y_preds):\n",
    "    accuracy = accuracy_score(y_true,y_preds)\n",
    "    precision = precision_score(y_true,y_preds,average='macro')\n",
    "    recall = recall_score(y_true,y_preds,average='macro')\n",
    "    f1 = f1_score(y_true,y_preds,average='macro')\n",
    "    metric_dict = { \"accuracy\"   : round(accuracy,2),\n",
    "                    \"precision\"  : round(precision,2),\n",
    "                    \"recall\"     : round(recall,2),\n",
    "                    \"f1 \"        : round(f1,2)\n",
    "                  }\n",
    "                   \n",
    "    print(f\"Acc        : {accuracy*100:.2f}%\")\n",
    "    print(f\"Precision  : {precision*100:.2f}%\")\n",
    "    print(f\"Recall     : {recall*100:.2f}%\")\n",
    "    print(f\"F1_score   : {f1*100:.2f}%\")\n",
    "    return metric_dict"
   ]
  },
  {
   "cell_type": "code",
   "execution_count": 9,
   "id": "aa64b3ed",
   "metadata": {},
   "outputs": [],
   "source": [
    "def cross_fun(clf,x,y):\n",
    "    cv_score=cross_val_score(clf,x,y,cv=5)\n",
    "    print(f\"The cross validation accuracy MEAN is : {np.mean(cv_score)*100:.2f}%\")\n",
    "    print(f\"The cross validation accuracy STD  is : {np.std(cv_score)*100:.2f}\")\n",
    "    "
   ]
  },
  {
   "cell_type": "markdown",
   "id": "4983a3f9",
   "metadata": {},
   "source": [
    "#### KNN model"
   ]
  },
  {
   "cell_type": "code",
   "execution_count": 10,
   "id": "e8dbe8c7",
   "metadata": {},
   "outputs": [
    {
     "name": "stdout",
     "output_type": "stream",
     "text": [
      "Report for train data\n",
      "Acc        : 60.14%\n",
      "Precision  : 59.41%\n",
      "Recall     : 56.65%\n",
      "F1_score   : 55.20%\n",
      "  \n",
      "  \n",
      "  \n",
      "Report for test data\n",
      "Acc        : 47.72%\n",
      "Precision  : 33.88%\n",
      "Recall     : 38.02%\n",
      "F1_score   : 34.33%\n",
      " \n",
      " \n",
      "N FOLD SCORE\n",
      "The cross validation accuracy MEAN is : nan%\n",
      "The cross validation accuracy STD  is : nan\n"
     ]
    }
   ],
   "source": [
    "knn = KNeighborsClassifier(n_neighbors=5)\n",
    "\n",
    "knn.fit(x_train, y_train)\n",
    "\n",
    "y_test_preds = knn.predict(x_test.values)\n",
    "y_train_preds=knn.predict(x_train.values)\n",
    "\n",
    "\n",
    "\n",
    "print(f\"Report for train data\")\n",
    "evaluate_preds(y_train,y_train_preds)\n",
    "print(\"  \")\n",
    "print(\"  \")\n",
    "print(\"  \")\n",
    "print(f\"Report for test data\")\n",
    "evaluate_preds(y_test,y_test_preds)\n",
    "\n",
    "print(\" \")\n",
    "print(\" \")\n",
    "print(f\"N FOLD SCORE\")\n",
    "cross_fun(knn,x,y)"
   ]
  },
  {
   "cell_type": "markdown",
   "id": "2d8ed553",
   "metadata": {},
   "source": [
    "### Random Forest"
   ]
  },
  {
   "cell_type": "code",
   "execution_count": 11,
   "id": "33bbf899",
   "metadata": {},
   "outputs": [
    {
     "name": "stdout",
     "output_type": "stream",
     "text": [
      "Report for train data\n",
      "Acc        : 82.08%\n",
      "Precision  : 87.91%\n",
      "Recall     : 89.58%\n",
      "F1_score   : 88.18%\n",
      "  \n",
      "  \n",
      "  \n",
      "Report for test data\n",
      "Acc        : 61.85%\n",
      "Precision  : 62.61%\n",
      "Recall     : 61.56%\n",
      "F1_score   : 58.88%\n",
      " \n",
      " \n",
      "N FOLD SCORE\n",
      "The cross validation accuracy MEAN is : 59.17%\n",
      "The cross validation accuracy STD  is : 2.15\n"
     ]
    }
   ],
   "source": [
    "model = RandomForestClassifier()\n",
    "\n",
    "model.fit(x_train, y_train)\n",
    "\n",
    "y_test_preds = model.predict(x_test.values)\n",
    "y_train_preds= model.predict(x_train.values)\n",
    "\n",
    "\n",
    "\n",
    "print(f\"Report for train data\")\n",
    "evaluate_preds(y_train,y_train_preds)\n",
    "print(\"  \")\n",
    "print(\"  \")\n",
    "print(\"  \")\n",
    "print(f\"Report for test data\")\n",
    "evaluate_preds(y_test,y_test_preds)\n",
    "\n",
    "print(\" \")\n",
    "print(\" \")\n",
    "print(f\"N FOLD SCORE\")\n",
    "cross_fun(model,x,y)"
   ]
  },
  {
   "cell_type": "markdown",
   "id": "bd723355",
   "metadata": {},
   "source": [
    "###  DecisionTreeClassifier"
   ]
  },
  {
   "cell_type": "code",
   "execution_count": 96,
   "id": "bcab4ba2",
   "metadata": {},
   "outputs": [
    {
     "name": "stdout",
     "output_type": "stream",
     "text": [
      "Report for train data\n",
      "Acc        : 82.08%\n",
      "Precision  : 87.91%\n",
      "Recall     : 89.58%\n",
      "F1_score   : 88.18%\n",
      "  \n",
      "  \n",
      "  \n",
      "Report for test data\n",
      "Acc        : 58.36%\n",
      "Precision  : 55.42%\n",
      "Recall     : 56.36%\n",
      "F1_score   : 53.88%\n",
      " \n",
      " \n",
      "N FOLD SCORE\n",
      "The cross validation accuracy MEAN is : 55.43%\n",
      "The cross validation accuracy STD  is : 2.04%\n"
     ]
    }
   ],
   "source": [
    "des_trees = DecisionTreeClassifier(random_state=42)\n",
    "\n",
    "des_trees.fit(x_train, y_train)\n",
    "\n",
    "y_test_preds = des_trees.predict(x_test.values)\n",
    "y_train_preds= des_trees.predict(x_train.values)\n",
    "\n",
    "\n",
    "\n",
    "print(f\"Report for train data\")\n",
    "evaluate_preds(y_train,y_train_preds)\n",
    "print(\"  \")\n",
    "print(\"  \")\n",
    "print(\"  \")\n",
    "print(f\"Report for test data\")\n",
    "evaluate_preds(y_test,y_test_preds)\n",
    "\n",
    "print(\" \")\n",
    "print(\" \")\n",
    "print(f\"N FOLD SCORE\")\n",
    "cross_fun(des_trees,x,y)"
   ]
  },
  {
   "cell_type": "markdown",
   "id": "0f9511b9",
   "metadata": {},
   "source": [
    "### MLP"
   ]
  },
  {
   "cell_type": "code",
   "execution_count": 83,
   "id": "74760c2e",
   "metadata": {},
   "outputs": [
    {
     "name": "stdout",
     "output_type": "stream",
     "text": [
      "Report for train data\n",
      "Acc        : 16.81%\n",
      "Precision  : 8.99%\n",
      "Recall     : 12.62%\n",
      "F1_score   : 7.23%\n",
      "  \n",
      "  \n",
      "  \n",
      "Report for test data\n",
      "Acc        : 14.44%\n",
      "Precision  : 8.91%\n",
      "Recall     : 10.56%\n",
      "F1_score   : 5.76%\n",
      " \n",
      " \n",
      "N FOLD SCORE\n",
      "The cross validation accuracy MEAN is : 8.94%\n",
      "The cross validation accuracy STD  is : 0.22%\n"
     ]
    }
   ],
   "source": [
    "mlp = MLPClassifier(hidden_layer_sizes=(100, 50), max_iter=500, alpha=0.0001,\n",
    "                    solver='adam', verbose=False, random_state=42, tol=0.0001)\n",
    "\n",
    "mlp.fit(x_train, y_train)\n",
    "\n",
    "y_test_preds = mlp.predict(x_test.values)\n",
    "y_train_preds= mlp.predict(x_train.values)\n",
    "\n",
    "\n",
    "\n",
    "print(f\"Report for train data\")\n",
    "evaluate_preds(y_train,y_train_preds)\n",
    "print(\"  \")\n",
    "print(\"  \")\n",
    "print(\"  \")\n",
    "print(f\"Report for test data\")\n",
    "evaluate_preds(y_test,y_test_preds)\n",
    "\n",
    "print(\" \")\n",
    "print(\" \")\n",
    "print(f\"N FOLD SCORE\")\n",
    "cross_fun(mlp,x,y)\n"
   ]
  },
  {
   "cell_type": "markdown",
   "id": "9a5370ee",
   "metadata": {},
   "source": [
    "### SVM model"
   ]
  },
  {
   "cell_type": "code",
   "execution_count": 89,
   "id": "36686591",
   "metadata": {},
   "outputs": [
    {
     "name": "stdout",
     "output_type": "stream",
     "text": [
      "Report for train data\n",
      "Acc        : 28.19%\n",
      "Precision  : 11.96%\n",
      "Recall     : 14.89%\n",
      "F1_score   : 11.00%\n",
      "  \n",
      "  \n",
      "  \n",
      "Report for test data\n",
      "Acc        : 24.92%\n",
      "Precision  : 13.42%\n",
      "Recall     : 14.49%\n",
      "F1_score   : 10.50%\n",
      " \n",
      " \n",
      "N FOLD SCORE\n",
      "The cross validation accuracy MEAN is : 26.35%\n",
      "The cross validation accuracy STD  is : 1.43%\n"
     ]
    }
   ],
   "source": [
    "svm = SVC(kernel='rbf', random_state=42)\n",
    "\n",
    "svm.fit(x_train, y_train)\n",
    "\n",
    "y_test_preds = svm.predict(x_test.values)\n",
    "y_train_preds= svm.predict(x_train.values)\n",
    "\n",
    "\n",
    "\n",
    "print(f\"Report for train data\")\n",
    "evaluate_preds(y_train,y_train_preds)\n",
    "print(\"  \")\n",
    "print(\"  \")\n",
    "print(\"  \")\n",
    "print(f\"Report for test data\")\n",
    "evaluate_preds(y_test,y_test_preds)\n",
    "\n",
    "print(\" \")\n",
    "print(\" \")\n",
    "print(f\"N FOLD SCORE\")\n",
    "cross_fun(svm,x,y)"
   ]
  },
  {
   "cell_type": "markdown",
   "id": "4a7b1bb0",
   "metadata": {},
   "source": [
    "### Naive_bayes"
   ]
  },
  {
   "cell_type": "code",
   "execution_count": 93,
   "id": "29209046",
   "metadata": {},
   "outputs": [
    {
     "name": "stdout",
     "output_type": "stream",
     "text": [
      "Report for train data\n",
      "Acc        : 19.86%\n",
      "Precision  : 14.52%\n",
      "Recall     : 19.08%\n",
      "F1_score   : 13.77%\n",
      "  \n",
      "  \n",
      "  \n",
      "Report for test data\n",
      "Acc        : 20.36%\n",
      "Precision  : 18.07%\n",
      "Recall     : 20.70%\n",
      "F1_score   : 15.89%\n",
      " \n",
      " \n",
      "N FOLD SCORE\n",
      "The cross validation accuracy MEAN is : 18.31%\n",
      "The cross validation accuracy STD  is : 0.95%\n"
     ]
    }
   ],
   "source": [
    "nb = MultinomialNB()\n",
    "\n",
    "nb.fit(x_train, y_train)\n",
    "\n",
    "y_test_preds =nb.predict(x_test.values)\n",
    "y_train_preds=nb.predict(x_train.values)\n",
    "\n",
    "\n",
    "\n",
    "print(f\"Report for train data\")\n",
    "evaluate_preds(y_train,y_train_preds)\n",
    "print(\"  \")\n",
    "print(\"  \")\n",
    "print(\"  \")\n",
    "print(f\"Report for test data\")\n",
    "evaluate_preds(y_test,y_test_preds)\n",
    "\n",
    "print(\" \")\n",
    "print(\" \")\n",
    "print(f\"N FOLD SCORE\")\n",
    "cross_fun(nb,x,y)"
   ]
  },
  {
   "cell_type": "markdown",
   "id": "9800e6e1",
   "metadata": {},
   "source": [
    "### LogisticRegression"
   ]
  },
  {
   "cell_type": "code",
   "execution_count": 94,
   "id": "78194da0",
   "metadata": {},
   "outputs": [
    {
     "name": "stdout",
     "output_type": "stream",
     "text": [
      "Report for train data\n",
      "Acc        : 19.32%\n",
      "Precision  : 8.12%\n",
      "Recall     : 11.85%\n",
      "F1_score   : 8.67%\n",
      "  \n",
      "  \n",
      "  \n",
      "Report for test data\n",
      "Acc        : 17.02%\n",
      "Precision  : 8.22%\n",
      "Recall     : 11.79%\n",
      "F1_score   : 8.54%\n",
      " \n",
      " \n",
      "N FOLD SCORE\n",
      "The cross validation accuracy MEAN is : 16.52%\n",
      "The cross validation accuracy STD  is : 1.42%\n"
     ]
    }
   ],
   "source": [
    "from sklearn.linear_model import LogisticRegression\n",
    "\n",
    "log_reg = LogisticRegression(multi_class='multinomial', solver='lbfgs')\n",
    "\n",
    "log_reg.fit(x_train, y_train)\n",
    "\n",
    "y_test_preds =log_reg.predict(x_test.values)\n",
    "y_train_preds=log_reg.predict(x_train.values)\n",
    "\n",
    "\n",
    "print(f\"Report for train data\")\n",
    "evaluate_preds(y_train,y_train_preds)\n",
    "print(\"  \")\n",
    "print(\"  \")\n",
    "print(\"  \")\n",
    "print(f\"Report for test data\")\n",
    "evaluate_preds(y_test,y_test_preds)\n",
    "\n",
    "print(\" \")\n",
    "print(\" \")\n",
    "print(f\"N FOLD SCORE\")\n",
    "cross_fun(log_reg,x,y)\n"
   ]
  },
  {
   "cell_type": "code",
   "execution_count": null,
   "id": "5f56737c",
   "metadata": {},
   "outputs": [],
   "source": []
  }
 ],
 "metadata": {
  "kernelspec": {
   "display_name": "Python 3 (ipykernel)",
   "language": "python",
   "name": "python3"
  },
  "language_info": {
   "codemirror_mode": {
    "name": "ipython",
    "version": 3
   },
   "file_extension": ".py",
   "mimetype": "text/x-python",
   "name": "python",
   "nbconvert_exporter": "python",
   "pygments_lexer": "ipython3",
   "version": "3.10.6"
  }
 },
 "nbformat": 4,
 "nbformat_minor": 5
}

{
 "cells": [
  {
   "cell_type": "code",
   "execution_count": 2,
   "id": "3b6f8888-b1c2-4be3-a2ad-718543652151",
   "metadata": {},
   "outputs": [],
   "source": [
    "import numpy as np\n",
    "import pandas as pd\n",
    "import seaborn as sns"
   ]
  },
  {
   "cell_type": "code",
   "execution_count": 3,
   "id": "0c0651ad-c860-4b92-b9cd-ad8fb27e75d8",
   "metadata": {},
   "outputs": [],
   "source": [
    "df=pd.read_csv('MAlayalam_char_glcm_features.csv')"
   ]
  },
  {
   "cell_type": "code",
   "execution_count": 4,
   "id": "ff6ae074-8961-4ae6-86a9-3a95050f9246",
   "metadata": {},
   "outputs": [],
   "source": [
    "df.drop('fname',axis=1,inplace=True)"
   ]
  },
  {
   "cell_type": "code",
   "execution_count": 5,
   "id": "255f050a-74a3-4328-992f-78d0fcc39634",
   "metadata": {},
   "outputs": [
    {
     "data": {
      "text/plain": [
       "array([3333, 3334, 3335, 3337, 3342, 3343, 3346, 3349, 3350, 3351, 3352,\n",
       "       3353, 3354, 3355, 3356, 3357, 3358, 3359, 3360, 3361, 3362, 3363,\n",
       "       3364, 3365, 3366, 3367, 3368, 3370, 3371, 3372, 3373, 3374, 3375,\n",
       "       3376, 3377, 3378, 3379, 3380, 3381, 3382, 3383, 3384, 3385, 3450,\n",
       "       3451, 3452, 3453, 3454], dtype=int64)"
      ]
     },
     "execution_count": 5,
     "metadata": {},
     "output_type": "execute_result"
    }
   ],
   "source": [
    "df['label'].unique()"
   ]
  },
  {
   "cell_type": "code",
   "execution_count": 6,
   "id": "87152a95-3bf3-452a-ade9-08c794e1d3d9",
   "metadata": {},
   "outputs": [],
   "source": [
    "df_data_1=df.loc[df['label']==3333]"
   ]
  },
  {
   "cell_type": "code",
   "execution_count": 7,
   "id": "0d3e4c13-e7cd-4137-9a8c-343a24bd365e",
   "metadata": {},
   "outputs": [],
   "source": [
    "df_data_2=df.loc[df['label']==3334]"
   ]
  },
  {
   "cell_type": "code",
   "execution_count": 8,
   "id": "0e36a46a-7f71-4d55-a231-378888331d5c",
   "metadata": {},
   "outputs": [
    {
     "name": "stdout",
     "output_type": "stream",
     "text": [
      "<class 'pandas.core.frame.DataFrame'>\n",
      "RangeIndex: 3287 entries, 0 to 3286\n",
      "Data columns (total 25 columns):\n",
      " #   Column             Non-Null Count  Dtype  \n",
      "---  ------             --------------  -----  \n",
      " 0   dissimilarity_0    3287 non-null   float64\n",
      " 1   dissimilarity_45   3287 non-null   float64\n",
      " 2   dissimilarity_90   3287 non-null   float64\n",
      " 3   dissimilarity_135  3287 non-null   float64\n",
      " 4   correlation_0      3287 non-null   float64\n",
      " 5   correlation_45     3287 non-null   float64\n",
      " 6   correlation_90     3287 non-null   float64\n",
      " 7   correlation_135    3287 non-null   float64\n",
      " 8   homogeneity_0      3287 non-null   float64\n",
      " 9   homogeneity_45     3287 non-null   float64\n",
      " 10  homogeneity_90     3287 non-null   float64\n",
      " 11  homogeneity_135    3287 non-null   float64\n",
      " 12  contrast_0         3287 non-null   float64\n",
      " 13  contrast_45        3287 non-null   float64\n",
      " 14  contrast_90        3287 non-null   float64\n",
      " 15  contrast_135       3287 non-null   float64\n",
      " 16  ASM_0              3287 non-null   float64\n",
      " 17  ASM_45             3287 non-null   float64\n",
      " 18  ASM_90             3287 non-null   float64\n",
      " 19  ASM_135            3287 non-null   float64\n",
      " 20  energy_0           3287 non-null   float64\n",
      " 21  energy_45          3287 non-null   float64\n",
      " 22  energy_90          3287 non-null   float64\n",
      " 23  energy_135         3287 non-null   float64\n",
      " 24  label              3287 non-null   int64  \n",
      "dtypes: float64(24), int64(1)\n",
      "memory usage: 642.1 KB\n"
     ]
    }
   ],
   "source": [
    "df.info()"
   ]
  },
  {
   "cell_type": "code",
   "execution_count": 9,
   "id": "75bc8ac1-fd5b-49e3-b534-286273d37ce6",
   "metadata": {},
   "outputs": [],
   "source": [
    "df_data=pd.concat([df_data_1,df_data_2],ignore_index=True)"
   ]
  },
  {
   "cell_type": "code",
   "execution_count": 10,
   "id": "8eea150c-6813-45cb-834f-108710bebb54",
   "metadata": {},
   "outputs": [
    {
     "data": {
      "text/html": [
       "<div>\n",
       "<style scoped>\n",
       "    .dataframe tbody tr th:only-of-type {\n",
       "        vertical-align: middle;\n",
       "    }\n",
       "\n",
       "    .dataframe tbody tr th {\n",
       "        vertical-align: top;\n",
       "    }\n",
       "\n",
       "    .dataframe thead th {\n",
       "        text-align: right;\n",
       "    }\n",
       "</style>\n",
       "<table border=\"1\" class=\"dataframe\">\n",
       "  <thead>\n",
       "    <tr style=\"text-align: right;\">\n",
       "      <th></th>\n",
       "      <th>dissimilarity_0</th>\n",
       "      <th>dissimilarity_45</th>\n",
       "      <th>dissimilarity_90</th>\n",
       "      <th>dissimilarity_135</th>\n",
       "      <th>correlation_0</th>\n",
       "      <th>correlation_45</th>\n",
       "      <th>correlation_90</th>\n",
       "      <th>correlation_135</th>\n",
       "      <th>homogeneity_0</th>\n",
       "      <th>homogeneity_45</th>\n",
       "      <th>...</th>\n",
       "      <th>contrast_135</th>\n",
       "      <th>ASM_0</th>\n",
       "      <th>ASM_45</th>\n",
       "      <th>ASM_90</th>\n",
       "      <th>ASM_135</th>\n",
       "      <th>energy_0</th>\n",
       "      <th>energy_45</th>\n",
       "      <th>energy_90</th>\n",
       "      <th>energy_135</th>\n",
       "      <th>label</th>\n",
       "    </tr>\n",
       "  </thead>\n",
       "  <tbody>\n",
       "    <tr>\n",
       "      <th>0</th>\n",
       "      <td>17.216435</td>\n",
       "      <td>21.119725</td>\n",
       "      <td>20.889887</td>\n",
       "      <td>21.543330</td>\n",
       "      <td>0.491436</td>\n",
       "      <td>0.390284</td>\n",
       "      <td>0.389736</td>\n",
       "      <td>0.378055</td>\n",
       "      <td>0.932486</td>\n",
       "      <td>0.917179</td>\n",
       "      <td>...</td>\n",
       "      <td>5493.549025</td>\n",
       "      <td>0.804286</td>\n",
       "      <td>0.788199</td>\n",
       "      <td>0.790551</td>\n",
       "      <td>0.786816</td>\n",
       "      <td>0.896820</td>\n",
       "      <td>0.887806</td>\n",
       "      <td>0.889129</td>\n",
       "      <td>0.887027</td>\n",
       "      <td>3333</td>\n",
       "    </tr>\n",
       "    <tr>\n",
       "      <th>1</th>\n",
       "      <td>12.143708</td>\n",
       "      <td>15.748918</td>\n",
       "      <td>14.495192</td>\n",
       "      <td>15.859307</td>\n",
       "      <td>0.504656</td>\n",
       "      <td>0.375442</td>\n",
       "      <td>0.414030</td>\n",
       "      <td>0.371065</td>\n",
       "      <td>0.952378</td>\n",
       "      <td>0.938240</td>\n",
       "      <td>...</td>\n",
       "      <td>4044.123377</td>\n",
       "      <td>0.858505</td>\n",
       "      <td>0.843167</td>\n",
       "      <td>0.849379</td>\n",
       "      <td>0.842788</td>\n",
       "      <td>0.926556</td>\n",
       "      <td>0.918241</td>\n",
       "      <td>0.921618</td>\n",
       "      <td>0.918035</td>\n",
       "      <td>3333</td>\n",
       "    </tr>\n",
       "    <tr>\n",
       "      <th>2</th>\n",
       "      <td>17.216435</td>\n",
       "      <td>21.119725</td>\n",
       "      <td>20.889887</td>\n",
       "      <td>21.543330</td>\n",
       "      <td>0.491436</td>\n",
       "      <td>0.390284</td>\n",
       "      <td>0.389736</td>\n",
       "      <td>0.378055</td>\n",
       "      <td>0.932486</td>\n",
       "      <td>0.917179</td>\n",
       "      <td>...</td>\n",
       "      <td>5493.549025</td>\n",
       "      <td>0.804286</td>\n",
       "      <td>0.788199</td>\n",
       "      <td>0.790551</td>\n",
       "      <td>0.786816</td>\n",
       "      <td>0.896820</td>\n",
       "      <td>0.887806</td>\n",
       "      <td>0.889129</td>\n",
       "      <td>0.887027</td>\n",
       "      <td>3333</td>\n",
       "    </tr>\n",
       "    <tr>\n",
       "      <th>3</th>\n",
       "      <td>12.019049</td>\n",
       "      <td>15.824242</td>\n",
       "      <td>14.639564</td>\n",
       "      <td>16.002597</td>\n",
       "      <td>0.536540</td>\n",
       "      <td>0.396562</td>\n",
       "      <td>0.428353</td>\n",
       "      <td>0.388649</td>\n",
       "      <td>0.937824</td>\n",
       "      <td>0.921008</td>\n",
       "      <td>...</td>\n",
       "      <td>3810.042280</td>\n",
       "      <td>0.841781</td>\n",
       "      <td>0.823179</td>\n",
       "      <td>0.829753</td>\n",
       "      <td>0.822738</td>\n",
       "      <td>0.917486</td>\n",
       "      <td>0.907292</td>\n",
       "      <td>0.910908</td>\n",
       "      <td>0.907049</td>\n",
       "      <td>3333</td>\n",
       "    </tr>\n",
       "    <tr>\n",
       "      <th>4</th>\n",
       "      <td>13.591560</td>\n",
       "      <td>16.543238</td>\n",
       "      <td>12.819549</td>\n",
       "      <td>14.969519</td>\n",
       "      <td>0.398153</td>\n",
       "      <td>0.288259</td>\n",
       "      <td>0.437464</td>\n",
       "      <td>0.355965</td>\n",
       "      <td>0.946701</td>\n",
       "      <td>0.935126</td>\n",
       "      <td>...</td>\n",
       "      <td>3817.227365</td>\n",
       "      <td>0.860980</td>\n",
       "      <td>0.848183</td>\n",
       "      <td>0.862887</td>\n",
       "      <td>0.853592</td>\n",
       "      <td>0.927890</td>\n",
       "      <td>0.920969</td>\n",
       "      <td>0.928917</td>\n",
       "      <td>0.923900</td>\n",
       "      <td>3333</td>\n",
       "    </tr>\n",
       "    <tr>\n",
       "      <th>...</th>\n",
       "      <td>...</td>\n",
       "      <td>...</td>\n",
       "      <td>...</td>\n",
       "      <td>...</td>\n",
       "      <td>...</td>\n",
       "      <td>...</td>\n",
       "      <td>...</td>\n",
       "      <td>...</td>\n",
       "      <td>...</td>\n",
       "      <td>...</td>\n",
       "      <td>...</td>\n",
       "      <td>...</td>\n",
       "      <td>...</td>\n",
       "      <td>...</td>\n",
       "      <td>...</td>\n",
       "      <td>...</td>\n",
       "      <td>...</td>\n",
       "      <td>...</td>\n",
       "      <td>...</td>\n",
       "      <td>...</td>\n",
       "      <td>...</td>\n",
       "    </tr>\n",
       "    <tr>\n",
       "      <th>155</th>\n",
       "      <td>14.978299</td>\n",
       "      <td>15.091682</td>\n",
       "      <td>12.062194</td>\n",
       "      <td>14.863596</td>\n",
       "      <td>0.382378</td>\n",
       "      <td>0.395100</td>\n",
       "      <td>0.506882</td>\n",
       "      <td>0.404242</td>\n",
       "      <td>0.941262</td>\n",
       "      <td>0.940818</td>\n",
       "      <td>...</td>\n",
       "      <td>3790.216905</td>\n",
       "      <td>0.849608</td>\n",
       "      <td>0.846480</td>\n",
       "      <td>0.859009</td>\n",
       "      <td>0.847270</td>\n",
       "      <td>0.921742</td>\n",
       "      <td>0.920044</td>\n",
       "      <td>0.926827</td>\n",
       "      <td>0.920472</td>\n",
       "      <td>3334</td>\n",
       "    </tr>\n",
       "    <tr>\n",
       "      <th>156</th>\n",
       "      <td>14.978299</td>\n",
       "      <td>15.091682</td>\n",
       "      <td>12.062194</td>\n",
       "      <td>14.863596</td>\n",
       "      <td>0.382378</td>\n",
       "      <td>0.395100</td>\n",
       "      <td>0.506882</td>\n",
       "      <td>0.404242</td>\n",
       "      <td>0.941262</td>\n",
       "      <td>0.940818</td>\n",
       "      <td>...</td>\n",
       "      <td>3790.216905</td>\n",
       "      <td>0.849608</td>\n",
       "      <td>0.846480</td>\n",
       "      <td>0.859009</td>\n",
       "      <td>0.847270</td>\n",
       "      <td>0.921742</td>\n",
       "      <td>0.920044</td>\n",
       "      <td>0.926827</td>\n",
       "      <td>0.920472</td>\n",
       "      <td>3334</td>\n",
       "    </tr>\n",
       "    <tr>\n",
       "      <th>157</th>\n",
       "      <td>14.978299</td>\n",
       "      <td>15.091682</td>\n",
       "      <td>12.062194</td>\n",
       "      <td>14.863596</td>\n",
       "      <td>0.382378</td>\n",
       "      <td>0.395100</td>\n",
       "      <td>0.506882</td>\n",
       "      <td>0.404242</td>\n",
       "      <td>0.941262</td>\n",
       "      <td>0.940818</td>\n",
       "      <td>...</td>\n",
       "      <td>3790.216905</td>\n",
       "      <td>0.849608</td>\n",
       "      <td>0.846480</td>\n",
       "      <td>0.859009</td>\n",
       "      <td>0.847270</td>\n",
       "      <td>0.921742</td>\n",
       "      <td>0.920044</td>\n",
       "      <td>0.926827</td>\n",
       "      <td>0.920472</td>\n",
       "      <td>3334</td>\n",
       "    </tr>\n",
       "    <tr>\n",
       "      <th>158</th>\n",
       "      <td>14.708189</td>\n",
       "      <td>16.386777</td>\n",
       "      <td>13.636689</td>\n",
       "      <td>16.067904</td>\n",
       "      <td>0.485341</td>\n",
       "      <td>0.414330</td>\n",
       "      <td>0.514000</td>\n",
       "      <td>0.428009</td>\n",
       "      <td>0.911815</td>\n",
       "      <td>0.899682</td>\n",
       "      <td>...</td>\n",
       "      <td>3585.512001</td>\n",
       "      <td>0.801424</td>\n",
       "      <td>0.787671</td>\n",
       "      <td>0.795795</td>\n",
       "      <td>0.788359</td>\n",
       "      <td>0.895223</td>\n",
       "      <td>0.887508</td>\n",
       "      <td>0.892073</td>\n",
       "      <td>0.887896</td>\n",
       "      <td>3334</td>\n",
       "    </tr>\n",
       "    <tr>\n",
       "      <th>159</th>\n",
       "      <td>14.978299</td>\n",
       "      <td>15.091682</td>\n",
       "      <td>12.062194</td>\n",
       "      <td>14.863596</td>\n",
       "      <td>0.382378</td>\n",
       "      <td>0.395100</td>\n",
       "      <td>0.506882</td>\n",
       "      <td>0.404242</td>\n",
       "      <td>0.941262</td>\n",
       "      <td>0.940818</td>\n",
       "      <td>...</td>\n",
       "      <td>3790.216905</td>\n",
       "      <td>0.849608</td>\n",
       "      <td>0.846480</td>\n",
       "      <td>0.859009</td>\n",
       "      <td>0.847270</td>\n",
       "      <td>0.921742</td>\n",
       "      <td>0.920044</td>\n",
       "      <td>0.926827</td>\n",
       "      <td>0.920472</td>\n",
       "      <td>3334</td>\n",
       "    </tr>\n",
       "  </tbody>\n",
       "</table>\n",
       "<p>160 rows × 25 columns</p>\n",
       "</div>"
      ],
      "text/plain": [
       "     dissimilarity_0  dissimilarity_45  dissimilarity_90  dissimilarity_135  \\\n",
       "0          17.216435         21.119725         20.889887          21.543330   \n",
       "1          12.143708         15.748918         14.495192          15.859307   \n",
       "2          17.216435         21.119725         20.889887          21.543330   \n",
       "3          12.019049         15.824242         14.639564          16.002597   \n",
       "4          13.591560         16.543238         12.819549          14.969519   \n",
       "..               ...               ...               ...                ...   \n",
       "155        14.978299         15.091682         12.062194          14.863596   \n",
       "156        14.978299         15.091682         12.062194          14.863596   \n",
       "157        14.978299         15.091682         12.062194          14.863596   \n",
       "158        14.708189         16.386777         13.636689          16.067904   \n",
       "159        14.978299         15.091682         12.062194          14.863596   \n",
       "\n",
       "     correlation_0  correlation_45  correlation_90  correlation_135  \\\n",
       "0         0.491436        0.390284        0.389736         0.378055   \n",
       "1         0.504656        0.375442        0.414030         0.371065   \n",
       "2         0.491436        0.390284        0.389736         0.378055   \n",
       "3         0.536540        0.396562        0.428353         0.388649   \n",
       "4         0.398153        0.288259        0.437464         0.355965   \n",
       "..             ...             ...             ...              ...   \n",
       "155       0.382378        0.395100        0.506882         0.404242   \n",
       "156       0.382378        0.395100        0.506882         0.404242   \n",
       "157       0.382378        0.395100        0.506882         0.404242   \n",
       "158       0.485341        0.414330        0.514000         0.428009   \n",
       "159       0.382378        0.395100        0.506882         0.404242   \n",
       "\n",
       "     homogeneity_0  homogeneity_45  ...  contrast_135     ASM_0    ASM_45  \\\n",
       "0         0.932486        0.917179  ...   5493.549025  0.804286  0.788199   \n",
       "1         0.952378        0.938240  ...   4044.123377  0.858505  0.843167   \n",
       "2         0.932486        0.917179  ...   5493.549025  0.804286  0.788199   \n",
       "3         0.937824        0.921008  ...   3810.042280  0.841781  0.823179   \n",
       "4         0.946701        0.935126  ...   3817.227365  0.860980  0.848183   \n",
       "..             ...             ...  ...           ...       ...       ...   \n",
       "155       0.941262        0.940818  ...   3790.216905  0.849608  0.846480   \n",
       "156       0.941262        0.940818  ...   3790.216905  0.849608  0.846480   \n",
       "157       0.941262        0.940818  ...   3790.216905  0.849608  0.846480   \n",
       "158       0.911815        0.899682  ...   3585.512001  0.801424  0.787671   \n",
       "159       0.941262        0.940818  ...   3790.216905  0.849608  0.846480   \n",
       "\n",
       "       ASM_90   ASM_135  energy_0  energy_45  energy_90  energy_135  label  \n",
       "0    0.790551  0.786816  0.896820   0.887806   0.889129    0.887027   3333  \n",
       "1    0.849379  0.842788  0.926556   0.918241   0.921618    0.918035   3333  \n",
       "2    0.790551  0.786816  0.896820   0.887806   0.889129    0.887027   3333  \n",
       "3    0.829753  0.822738  0.917486   0.907292   0.910908    0.907049   3333  \n",
       "4    0.862887  0.853592  0.927890   0.920969   0.928917    0.923900   3333  \n",
       "..        ...       ...       ...        ...        ...         ...    ...  \n",
       "155  0.859009  0.847270  0.921742   0.920044   0.926827    0.920472   3334  \n",
       "156  0.859009  0.847270  0.921742   0.920044   0.926827    0.920472   3334  \n",
       "157  0.859009  0.847270  0.921742   0.920044   0.926827    0.920472   3334  \n",
       "158  0.795795  0.788359  0.895223   0.887508   0.892073    0.887896   3334  \n",
       "159  0.859009  0.847270  0.921742   0.920044   0.926827    0.920472   3334  \n",
       "\n",
       "[160 rows x 25 columns]"
      ]
     },
     "execution_count": 10,
     "metadata": {},
     "output_type": "execute_result"
    }
   ],
   "source": [
    "df_data"
   ]
  },
  {
   "cell_type": "markdown",
   "id": "9893a10b",
   "metadata": {},
   "source": [
    "#### Question 1"
   ]
  },
  {
   "cell_type": "code",
   "execution_count": 11,
   "id": "90b3713e-0a1a-4c18-b11d-4b6ff9b3edaf",
   "metadata": {},
   "outputs": [
    {
     "data": {
      "text/plain": [
       "<AxesSubplot:xlabel='dissimilarity_0', ylabel='dissimilarity_45'>"
      ]
     },
     "execution_count": 11,
     "metadata": {},
     "output_type": "execute_result"
    },
    {
     "data": {
      "image/png": "[encoded data removed]",
      "text/plain": [
       "<Figure size 432x288 with 1 Axes>"
      ]
     },
     "metadata": {
      "needs_background": "light"
     },
     "output_type": "display_data"
    }
   ],
   "source": [
    "\n",
    "sns.scatterplot(x='dissimilarity_0',y='dissimilarity_45',data=df_data)"
   ]
  },
  {
   "cell_type": "markdown",
   "id": "028c747c",
   "metadata": {},
   "source": [
    "#####  Question 3 Linear Regresssion model"
   ]
  },
  {
   "cell_type": "code",
   "execution_count": 12,
   "id": "2af2011f-e7f6-412e-b0f5-ee9ab391f0f7",
   "metadata": {},
   "outputs": [],
   "source": [
    "from sklearn.linear_model import LinearRegression\n",
    "from sklearn.model_selection import train_test_split\n",
    "from sklearn.metrics import mean_squared_error as mse"
   ]
  },
  {
   "cell_type": "code",
   "execution_count": 23,
   "id": "86ebdacb-ec90-4be0-9936-b77467b05792",
   "metadata": {},
   "outputs": [],
   "source": [
    "model=LinearRegression()"
   ]
  },
  {
   "cell_type": "code",
   "execution_count": 24,
   "id": "7ce2ea03-f3ac-4135-a89c-10ba17fd379d",
   "metadata": {},
   "outputs": [
    {
     "data": {
      "text/plain": [
       "Index(['dissimilarity_0', 'dissimilarity_45', 'dissimilarity_90',\n",
       "       'dissimilarity_135', 'correlation_0', 'correlation_45',\n",
       "       'correlation_90', 'correlation_135', 'homogeneity_0', 'homogeneity_45',\n",
       "       'homogeneity_90', 'homogeneity_135', 'contrast_0', 'contrast_45',\n",
       "       'contrast_90', 'contrast_135', 'ASM_0', 'ASM_45', 'ASM_90', 'ASM_135',\n",
       "       'energy_0', 'energy_45', 'energy_90', 'energy_135', 'label'],\n",
       "      dtype='object')"
      ]
     },
     "execution_count": 24,
     "metadata": {},
     "output_type": "execute_result"
    }
   ],
   "source": [
    "df.columns"
   ]
  },
  {
   "cell_type": "code",
   "execution_count": 25,
   "id": "38861f5d-7a09-4377-a471-d02f36c65244",
   "metadata": {},
   "outputs": [],
   "source": [
    "columns=list(df.columns.values)\n",
    "columns.remove('dissimilarity_0')\n",
    "dependent_var=df['dissimilarity_0'].values.reshape(-1,1)"
   ]
  },
  {
   "cell_type": "code",
   "execution_count": 26,
   "id": "c8da6f57-75de-4bcb-bb11-168c9742a6cb",
   "metadata": {},
   "outputs": [
    {
     "name": "stdout",
     "output_type": "stream",
     "text": [
      "3.857365971444306\n",
      "6.961778507343104\n",
      "3.455914928833225\n",
      "0.02033399723681613\n",
      "0.03281796545067169\n",
      "0.02935156840872909\n",
      "0.03148994145471853\n",
      "0.0001685801309754513\n",
      "0.000252346076669302\n",
      "0.0002955859929075602\n",
      "0.00023124176716846334\n",
      "34251.44710201281\n",
      "265992.64294462616\n",
      "477047.1018158504\n",
      "264381.4850929888\n",
      "0.0005782472533757803\n",
      "0.000823838099312131\n",
      "0.000851781207941906\n",
      "0.0008850696335549932\n",
      "0.00016206767993880207\n",
      "0.00026714668739804106\n",
      "0.00026806652627625014\n",
      "0.00022574676610887271\n",
      "502.9518017307285\n"
     ]
    }
   ],
   "source": [
    "for i in columns:\n",
    "    independent_var=df[i].values.reshape(-1,1)\n",
    "    X_train,X_test,y_train,y_test=train_test_split(dependent_var,independent_var,test_size=0.3)\n",
    "    model.fit(X_train,y_train)\n",
    "    prediction=model.predict(X_test)\n",
    "    print(mse(prediction,y_test))"
   ]
  },
  {
   "cell_type": "markdown",
   "id": "4c1ad3f1",
   "metadata": {},
   "source": [
    "##### Question 4  Logistic Regression"
   ]
  },
  {
   "cell_type": "code",
   "execution_count": 27,
   "id": "588bc414-7f5c-4a15-86e1-f67432f82970",
   "metadata": {},
   "outputs": [],
   "source": [
    "from sklearn.linear_model import LogisticRegression\n",
    "from sklearn.metrics import accuracy_score\n",
    "model_1=LogisticRegression()"
   ]
  },
  {
   "cell_type": "code",
   "execution_count": 28,
   "id": "a74f0b79-959c-4df6-9e51-4460290065da",
   "metadata": {},
   "outputs": [],
   "source": [
    "X_train,X_test,y_train,y_test=train_test_split(df_data.drop('label',axis=1),df_data['label'],test_size=0.3)\n",
    "model_1.fit(X_train,y_train)\n",
    "prediction=model_1.predict(X_test)\n"
   ]
  },
  {
   "cell_type": "code",
   "execution_count": 29,
   "id": "f11a0e55-29ae-43d2-b101-eea577cb5119",
   "metadata": {},
   "outputs": [
    {
     "data": {
      "text/plain": [
       "0.6041666666666666"
      ]
     },
     "execution_count": 29,
     "metadata": {},
     "output_type": "execute_result"
    }
   ],
   "source": [
    "accuracy_score(y_test,prediction)"
   ]
  },
  {
   "cell_type": "markdown",
   "id": "708faeed",
   "metadata": {},
   "source": [
    "##### Question 5 KNN model"
   ]
  },
  {
   "cell_type": "code",
   "execution_count": 30,
   "id": "7beb94ab-c8a2-4ed7-a838-31106d7f475f",
   "metadata": {},
   "outputs": [],
   "source": [
    "from sklearn.neighbors import KNeighborsRegressor"
   ]
  },
  {
   "cell_type": "code",
   "execution_count": 31,
   "id": "e6194334-b5b8-4f4c-8c40-b3cfa1b14ec6",
   "metadata": {},
   "outputs": [
    {
     "name": "stdout",
     "output_type": "stream",
     "text": [
      "2.7417870373593085\n",
      "4.613545151773603\n",
      "2.589305597793978\n",
      "0.006841359864085484\n",
      "0.004914610337817164\n",
      "0.003572901967269068\n",
      "0.005581793072235483\n",
      "0.00014493359684854856\n",
      "0.0001880350182966585\n",
      "0.0002259184617322133\n",
      "0.00020382959185910008\n",
      "28960.218369165068\n",
      "181870.6875182143\n",
      "319074.3019257442\n",
      "206019.92043049078\n",
      "0.0004247956189607421\n",
      "0.000666281371957417\n",
      "0.0007183049664300741\n",
      "0.0006566921968023417\n",
      "0.0001428560015559269\n",
      "0.00021987754760491497\n",
      "0.0002279360007537468\n",
      "0.00023017327356217489\n",
      "484.0245997973657\n"
     ]
    }
   ],
   "source": [
    "knn=KNeighborsRegressor(n_neighbors=5)\n",
    "for i in columns:\n",
    "    independent_var=df[i].values.reshape(-1,1)\n",
    "    X_train,X_test,y_train,y_test=train_test_split(dependent_var,independent_var,test_size=0.3)\n",
    "    knn.fit(X_train,y_train)\n",
    "    prediction=knn.predict(X_test)\n",
    "    print(mse(prediction,y_test))"
   ]
  },
  {
   "cell_type": "markdown",
   "id": "727c90a5",
   "metadata": {},
   "source": [
    "##### Question 6 Regression Trees"
   ]
  },
  {
   "cell_type": "code",
   "execution_count": 22,
   "id": "b651dccf-3443-4ebe-bbd4-23d0ac6d89e4",
   "metadata": {},
   "outputs": [
    {
     "name": "stdout",
     "output_type": "stream",
     "text": [
      "2.0759694327581807e-05\n"
     ]
    }
   ],
   "source": [
    "data_2=df_data.drop('label',axis=1)\n",
    "from sklearn.tree import DecisionTreeRegressor   \n",
    "regressor = DecisionTreeRegressor(random_state = 0)  \n",
    "X_train,X_test,y_train,y_test=train_test_split(data_2.drop('energy_135',axis=1),data_2['energy_135'],test_size=0.3)\n",
    "regressor.fit(X_train, y_train) \n",
    "prediction=regressor.predict(X_test)\n",
    "print(mse(prediction,y_test))"
   ]
  },
  {
   "cell_type": "code",
   "execution_count": null,
   "id": "91c91946",
   "metadata": {},
   "outputs": [],
   "source": []
  }
 ],
 "metadata": {
  "kernelspec": {
   "display_name": "Python 3 (ipykernel)",
   "language": "python",
   "name": "python3"
  },
  "language_info": {
   "codemirror_mode": {
    "name": "ipython",
    "version": 3
   },
   "file_extension": ".py",
   "mimetype": "text/x-python",
   "name": "python",
   "nbconvert_exporter": "python",
   "pygments_lexer": "ipython3",
   "version": "3.10.6"
  }
 },
 "nbformat": 4,
 "nbformat_minor": 5
}
